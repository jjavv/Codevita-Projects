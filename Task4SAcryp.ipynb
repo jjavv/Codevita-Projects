{
  "nbformat": 4,
  "nbformat_minor": 0,
  "metadata": {
    "colab": {
      "provenance": [],
      "collapsed_sections": []
    },
    "kernelspec": {
      "name": "python3",
      "display_name": "Python 3"
    },
    "language_info": {
      "name": "python"
    }
  },
  "cells": [
    {
      "cell_type": "markdown",
      "source": [
        "Codevita Live Internship Data Science Track Task4: Sentimental Analysis on Crypto and Stocks\n",
        "\n",
        "Intern: Javeria Ehsan"
      ],
      "metadata": {
        "id": "thTBYOSW95rN"
      }
    },
    {
      "cell_type": "code",
      "execution_count": 1,
      "metadata": {
        "id": "0F4edQ7u9y77"
      },
      "outputs": [],
      "source": [
        "import numpy as np\n",
        "import pandas as pd \n",
        "import os\n",
        "for dirname, _, filenames in os.walk('/sparks/codevita'):\n",
        "    for filename in filenames:\n",
        "        print(os.path.join(dirname, filename))"
      ]
    },
    {
      "cell_type": "code",
      "source": [
        "# The statements are taken from the following url:https://www.reddit.com/r/StockMarket/ for Aug22-Sep22 period\n",
        "stocks=[\n",
        "    \"Interest rate is going up in two weeks,rent is over the top high,and there's no inventory on homes\",\n",
        "    \"when you see charts anywhere\",\n",
        "    \"S$P500 is down 20% YTD.I wish houses price were low atleast 20%\",\n",
        "    \"A major Fed rate hike risk deflation\",\n",
        "    \"FedEx warning drives worst decline in stocks,deepens slowdown fear\",\n",
        "    \"Jim Cramer predicts FedEx will have a great year amid strong e-commerce sales\",\n",
        "    \"The stock market will fall another 26% if the Fed sparks a recession in its fight against inflation,Goldman Sachs\",\n",
        "    \"Just Barely a Green Day but I'll take it\",\n",
        "    \"All of my current position for the 215k challenge youtube portfolio! It's been a hell of a ride so far\",\n",
        "    \"Wall St on course for bad week in months amid mounting slowdown fears \"\n",
        "]"
      ],
      "metadata": {
        "id": "q9QcUHZA-RC_"
      },
      "execution_count": 10,
      "outputs": []
    },
    {
      "cell_type": "code",
      "source": [
        "# The statements are taken from the following url:https://www.reddit.com/r/CryptoCurrency/ for Aug22-Sep22 period\n",
        "cryptocurrencies=[\n",
        "    \"'No one is profitable:'GPU Mining faces dark days ahead\",\n",
        "    \"Joe Biden Just sends a stark warning to bitcoin and crypto after $ 2trillion price crash\",\n",
        "    \"I started accepting moons at my business as a payment method\",\n",
        "    \"It looks like Ethereum is now deflationary as the burns rate is at least 5% higher than the reward\",\n",
        "    \"Bitcoin better than physical property for  commoners, says Michael Saylor\",\n",
        "    \"Ethereum Classic's Hashrate surged  by 280% following merger\",\n",
        "    \"Over $320,000,000 liquidated in bitcoin and crypto in just 24 hours, with ethreum most impacted\",\n",
        "    \"Financial experts says instititions still invest in crypto regardless of downturn\",\n",
        "    \"Binance  CEo praises Biden digital assets policy report amid  industry critcism\",\n",
        "    \"Cryptocurrency is virtual property that is  protected by law ,chinese law court rules\"\n",
        "]"
      ],
      "metadata": {
        "id": "WwMeM6Rl-VNp"
      },
      "execution_count": 11,
      "outputs": []
    },
    {
      "cell_type": "code",
      "source": [
        "number_of_statements = len(stocks)\n",
        "print(number_of_statements)\n",
        "number_of_sentence = len(cryptocurrencies)\n",
        "print(number_of_sentence)"
      ],
      "metadata": {
        "colab": {
          "base_uri": "https://localhost:8080/"
        },
        "id": "UkTIAjHq-Z41",
        "outputId": "c8465e52-42a5-4249-b02e-a5efeefcd6df"
      },
      "execution_count": 4,
      "outputs": [
        {
          "output_type": "stream",
          "name": "stdout",
          "text": [
            "10\n",
            "10\n"
          ]
        }
      ]
    },
    {
      "cell_type": "code",
      "source": [
        "happy_words_stock=['great','Green','excited','happy','wonderful','amazing','best']"
      ],
      "metadata": {
        "id": "UESqsPk_-dsV"
      },
      "execution_count": 5,
      "outputs": []
    },
    {
      "cell_type": "code",
      "source": [
        "sad_words_stock=['down','risk','decline','fall','worst','bad']"
      ],
      "metadata": {
        "id": "0O0VuGYA-gq9"
      },
      "execution_count": 6,
      "outputs": []
    },
    {
      "cell_type": "code",
      "source": [
        "happy_words_cryptocurrency=['accepting','higher','better','surged','great','protected']"
      ],
      "metadata": {
        "id": "CcPSnuah-jtQ"
      },
      "execution_count": 7,
      "outputs": []
    },
    {
      "cell_type": "code",
      "source": [
        "sad_words_cryptocurrency=['dark','crash','impacted','criticism','warning']"
      ],
      "metadata": {
        "id": "SNy-DVT9-nEI"
      },
      "execution_count": 8,
      "outputs": []
    },
    {
      "cell_type": "code",
      "source": [
        "sample_stock = stocks[0]\n",
        "sample_stock"
      ],
      "metadata": {
        "colab": {
          "base_uri": "https://localhost:8080/",
          "height": 35
        },
        "id": "fAyrC9An-rY9",
        "outputId": "b4c49b57-853b-4e68-f399-204996017e41"
      },
      "execution_count": 9,
      "outputs": [
        {
          "output_type": "execute_result",
          "data": {
            "text/plain": [
              "\"Interest rate is going up in two weeks,rent is over the top high,and there's no inventory on homes\""
            ],
            "application/vnd.google.colaboratory.intrinsic+json": {
              "type": "string"
            }
          },
          "metadata": {},
          "execution_count": 9
        }
      ]
    }
  ]
}